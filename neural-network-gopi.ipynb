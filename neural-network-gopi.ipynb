{
 "cells": [
  {
   "cell_type": "code",
   "execution_count": 1,
   "id": "724a1d8a",
   "metadata": {
    "_cell_guid": "b1076dfc-b9ad-4769-8c92-a6c4dae69d19",
    "_uuid": "8f2839f25d086af736a60e9eeb907d3b93b6e0e5",
    "execution": {
     "iopub.execute_input": "2024-06-27T20:36:16.555700Z",
     "iopub.status.busy": "2024-06-27T20:36:16.555368Z",
     "iopub.status.idle": "2024-06-27T20:36:17.331674Z",
     "shell.execute_reply": "2024-06-27T20:36:17.330538Z"
    },
    "papermill": {
     "duration": 0.792906,
     "end_time": "2024-06-27T20:36:17.334347",
     "exception": false,
     "start_time": "2024-06-27T20:36:16.541441",
     "status": "completed"
    },
    "tags": []
   },
   "outputs": [
    {
     "name": "stdout",
     "output_type": "stream",
     "text": [
      "/kaggle/input/competitive-data-science-predict-future-sales/items.csv\n",
      "/kaggle/input/competitive-data-science-predict-future-sales/sample_submission.csv\n",
      "/kaggle/input/competitive-data-science-predict-future-sales/item_categories.csv\n",
      "/kaggle/input/competitive-data-science-predict-future-sales/sales_train.csv\n",
      "/kaggle/input/competitive-data-science-predict-future-sales/shops.csv\n",
      "/kaggle/input/competitive-data-science-predict-future-sales/test.csv\n"
     ]
    }
   ],
   "source": [
    "# This Python 3 environment comes with many helpful analytics libraries installed\n",
    "# It is defined by the kaggle/python Docker image: https://github.com/kaggle/docker-python\n",
    "# For example, here's several helpful packages to load\n",
    "\n",
    "import numpy as np # linear algebra\n",
    "import pandas as pd # data processing, CSV file I/O (e.g. pd.read_csv)\n",
    "\n",
    "# Input data files are available in the read-only \"../input/\" directory\n",
    "# For example, running this (by clicking run or pressing Shift+Enter) will list all files under the input directory\n",
    "\n",
    "import os\n",
    "for dirname, _, filenames in os.walk('/kaggle/input'):\n",
    "    for filename in filenames:\n",
    "        print(os.path.join(dirname, filename))\n",
    "\n",
    "# You can write up to 20GB to the current directory (/kaggle/working/) that gets preserved as output when you create a version using \"Save & Run All\" \n",
    "# You can also write temporary files to /kaggle/temp/, but they won't be saved outside of the current session"
   ]
  },
  {
   "cell_type": "markdown",
   "id": "72f973f9",
   "metadata": {
    "papermill": {
     "duration": 0.011792,
     "end_time": "2024-06-27T20:36:17.358825",
     "exception": false,
     "start_time": "2024-06-27T20:36:17.347033",
     "status": "completed"
    },
    "tags": []
   },
   "source": [
    "# Parte 1 - Loading libraries\n"
   ]
  },
  {
   "cell_type": "code",
   "execution_count": 2,
   "id": "a41bc230",
   "metadata": {
    "execution": {
     "iopub.execute_input": "2024-06-27T20:36:17.384468Z",
     "iopub.status.busy": "2024-06-27T20:36:17.383662Z",
     "iopub.status.idle": "2024-06-27T20:36:30.754929Z",
     "shell.execute_reply": "2024-06-27T20:36:30.753736Z"
    },
    "papermill": {
     "duration": 13.386207,
     "end_time": "2024-06-27T20:36:30.756935",
     "exception": false,
     "start_time": "2024-06-27T20:36:17.370728",
     "status": "completed"
    },
    "tags": []
   },
   "outputs": [
    {
     "name": "stderr",
     "output_type": "stream",
     "text": [
      "2024-06-27 20:36:21.149407: E external/local_xla/xla/stream_executor/cuda/cuda_dnn.cc:9261] Unable to register cuDNN factory: Attempting to register factory for plugin cuDNN when one has already been registered\n",
      "2024-06-27 20:36:21.149535: E external/local_xla/xla/stream_executor/cuda/cuda_fft.cc:607] Unable to register cuFFT factory: Attempting to register factory for plugin cuFFT when one has already been registered\n",
      "2024-06-27 20:36:21.284190: E external/local_xla/xla/stream_executor/cuda/cuda_blas.cc:1515] Unable to register cuBLAS factory: Attempting to register factory for plugin cuBLAS when one has already been registered\n"
     ]
    },
    {
     "name": "stdout",
     "output_type": "stream",
     "text": [
      "Python version in this Jupyter Notebook: 3.10.13\n"
     ]
    }
   ],
   "source": [
    "# Library System libraries\n",
    "import re\n",
    "import os\n",
    "import unicodedata\n",
    "import itertools\n",
    "\n",
    "# Library for file manipulation\n",
    "import pandas as pd\n",
    "import numpy as np \n",
    "import pandas\n",
    "\n",
    "# Library data visualization\n",
    "import plotly\n",
    "import seaborn as sns\n",
    "import matplotlib.pylab as pl\n",
    "import matplotlib as m\n",
    "import matplotlib as mpl\n",
    "import matplotlib.pyplot as plt\n",
    "import plotly.express as px\n",
    "from matplotlib import pyplot as plt\n",
    "from IPython.display import SVG\n",
    "\n",
    "# Configuration for graph width and layout\n",
    "sns.set_theme(style='whitegrid')\n",
    "palette='viridis'\n",
    "\n",
    "# Library ANN \n",
    "import tensorflow as tf\n",
    "from tensorflow.keras.models import Sequential\n",
    "from tensorflow.keras.layers import Dense\n",
    "from tensorflow.keras.layers import GRU\n",
    "from tensorflow.keras.layers import LSTM\n",
    "from tensorflow.keras.utils import to_categorical\n",
    "\n",
    "# Warnings remove alerts\n",
    "import warnings\n",
    "warnings.filterwarnings(\"ignore\")\n",
    "\n",
    "# Python version\n",
    "from platform import python_version\n",
    "print('Python version in this Jupyter Notebook:', python_version())"
   ]
  },
  {
   "cell_type": "code",
   "execution_count": 3,
   "id": "ec119322",
   "metadata": {
    "execution": {
     "iopub.execute_input": "2024-06-27T20:36:30.781569Z",
     "iopub.status.busy": "2024-06-27T20:36:30.780871Z",
     "iopub.status.idle": "2024-06-27T20:36:34.233269Z",
     "shell.execute_reply": "2024-06-27T20:36:34.232250Z"
    },
    "papermill": {
     "duration": 3.467573,
     "end_time": "2024-06-27T20:36:34.236033",
     "exception": false,
     "start_time": "2024-06-27T20:36:30.768460",
     "status": "completed"
    },
    "tags": []
   },
   "outputs": [],
   "source": [
    "# Database\n",
    "\n",
    "train = pd.read_csv('/kaggle/input/competitive-data-science-predict-future-sales/sales_train.csv')\n",
    "test = pd.read_csv('/kaggle/input/competitive-data-science-predict-future-sales/test.csv')\n",
    "items = pd.read_csv('/kaggle/input/competitive-data-science-predict-future-sales/items.csv')\n",
    "shops = pd.read_csv('/kaggle/input/competitive-data-science-predict-future-sales/shops.csv')\n",
    "item_categories = pd.read_csv('/kaggle/input/competitive-data-science-predict-future-sales/item_categories.csv')"
   ]
  },
  {
   "cell_type": "code",
   "execution_count": 4,
   "id": "e77a3942",
   "metadata": {
    "execution": {
     "iopub.execute_input": "2024-06-27T20:36:34.263830Z",
     "iopub.status.busy": "2024-06-27T20:36:34.263474Z",
     "iopub.status.idle": "2024-06-27T20:36:34.283869Z",
     "shell.execute_reply": "2024-06-27T20:36:34.282882Z"
    },
    "papermill": {
     "duration": 0.036268,
     "end_time": "2024-06-27T20:36:34.286023",
     "exception": false,
     "start_time": "2024-06-27T20:36:34.249755",
     "status": "completed"
    },
    "tags": []
   },
   "outputs": [
    {
     "data": {
      "text/html": [
       "<div>\n",
       "<style scoped>\n",
       "    .dataframe tbody tr th:only-of-type {\n",
       "        vertical-align: middle;\n",
       "    }\n",
       "\n",
       "    .dataframe tbody tr th {\n",
       "        vertical-align: top;\n",
       "    }\n",
       "\n",
       "    .dataframe thead th {\n",
       "        text-align: right;\n",
       "    }\n",
       "</style>\n",
       "<table border=\"1\" class=\"dataframe\">\n",
       "  <thead>\n",
       "    <tr style=\"text-align: right;\">\n",
       "      <th></th>\n",
       "      <th>date</th>\n",
       "      <th>date_block_num</th>\n",
       "      <th>shop_id</th>\n",
       "      <th>item_id</th>\n",
       "      <th>item_price</th>\n",
       "      <th>item_cnt_day</th>\n",
       "    </tr>\n",
       "  </thead>\n",
       "  <tbody>\n",
       "    <tr>\n",
       "      <th>0</th>\n",
       "      <td>02.01.2013</td>\n",
       "      <td>0</td>\n",
       "      <td>59</td>\n",
       "      <td>22154</td>\n",
       "      <td>999.00</td>\n",
       "      <td>1.0</td>\n",
       "    </tr>\n",
       "    <tr>\n",
       "      <th>1</th>\n",
       "      <td>03.01.2013</td>\n",
       "      <td>0</td>\n",
       "      <td>25</td>\n",
       "      <td>2552</td>\n",
       "      <td>899.00</td>\n",
       "      <td>1.0</td>\n",
       "    </tr>\n",
       "    <tr>\n",
       "      <th>2</th>\n",
       "      <td>05.01.2013</td>\n",
       "      <td>0</td>\n",
       "      <td>25</td>\n",
       "      <td>2552</td>\n",
       "      <td>899.00</td>\n",
       "      <td>-1.0</td>\n",
       "    </tr>\n",
       "    <tr>\n",
       "      <th>3</th>\n",
       "      <td>06.01.2013</td>\n",
       "      <td>0</td>\n",
       "      <td>25</td>\n",
       "      <td>2554</td>\n",
       "      <td>1709.05</td>\n",
       "      <td>1.0</td>\n",
       "    </tr>\n",
       "    <tr>\n",
       "      <th>4</th>\n",
       "      <td>15.01.2013</td>\n",
       "      <td>0</td>\n",
       "      <td>25</td>\n",
       "      <td>2555</td>\n",
       "      <td>1099.00</td>\n",
       "      <td>1.0</td>\n",
       "    </tr>\n",
       "  </tbody>\n",
       "</table>\n",
       "</div>"
      ],
      "text/plain": [
       "         date  date_block_num  shop_id  item_id  item_price  item_cnt_day\n",
       "0  02.01.2013               0       59    22154      999.00           1.0\n",
       "1  03.01.2013               0       25     2552      899.00           1.0\n",
       "2  05.01.2013               0       25     2552      899.00          -1.0\n",
       "3  06.01.2013               0       25     2554     1709.05           1.0\n",
       "4  15.01.2013               0       25     2555     1099.00           1.0"
      ]
     },
     "execution_count": 4,
     "metadata": {},
     "output_type": "execute_result"
    }
   ],
   "source": [
    "# Viewing first 5 data\n",
    "train.head()"
   ]
  },
  {
   "cell_type": "code",
   "execution_count": 5,
   "id": "624babb7",
   "metadata": {
    "execution": {
     "iopub.execute_input": "2024-06-27T20:36:34.311844Z",
     "iopub.status.busy": "2024-06-27T20:36:34.311213Z",
     "iopub.status.idle": "2024-06-27T20:36:34.322514Z",
     "shell.execute_reply": "2024-06-27T20:36:34.321647Z"
    },
    "papermill": {
     "duration": 0.026357,
     "end_time": "2024-06-27T20:36:34.324815",
     "exception": false,
     "start_time": "2024-06-27T20:36:34.298458",
     "status": "completed"
    },
    "tags": []
   },
   "outputs": [
    {
     "data": {
      "text/html": [
       "<div>\n",
       "<style scoped>\n",
       "    .dataframe tbody tr th:only-of-type {\n",
       "        vertical-align: middle;\n",
       "    }\n",
       "\n",
       "    .dataframe tbody tr th {\n",
       "        vertical-align: top;\n",
       "    }\n",
       "\n",
       "    .dataframe thead th {\n",
       "        text-align: right;\n",
       "    }\n",
       "</style>\n",
       "<table border=\"1\" class=\"dataframe\">\n",
       "  <thead>\n",
       "    <tr style=\"text-align: right;\">\n",
       "      <th></th>\n",
       "      <th>date</th>\n",
       "      <th>date_block_num</th>\n",
       "      <th>shop_id</th>\n",
       "      <th>item_id</th>\n",
       "      <th>item_price</th>\n",
       "      <th>item_cnt_day</th>\n",
       "    </tr>\n",
       "  </thead>\n",
       "  <tbody>\n",
       "    <tr>\n",
       "      <th>2935844</th>\n",
       "      <td>10.10.2015</td>\n",
       "      <td>33</td>\n",
       "      <td>25</td>\n",
       "      <td>7409</td>\n",
       "      <td>299.0</td>\n",
       "      <td>1.0</td>\n",
       "    </tr>\n",
       "    <tr>\n",
       "      <th>2935845</th>\n",
       "      <td>09.10.2015</td>\n",
       "      <td>33</td>\n",
       "      <td>25</td>\n",
       "      <td>7460</td>\n",
       "      <td>299.0</td>\n",
       "      <td>1.0</td>\n",
       "    </tr>\n",
       "    <tr>\n",
       "      <th>2935846</th>\n",
       "      <td>14.10.2015</td>\n",
       "      <td>33</td>\n",
       "      <td>25</td>\n",
       "      <td>7459</td>\n",
       "      <td>349.0</td>\n",
       "      <td>1.0</td>\n",
       "    </tr>\n",
       "    <tr>\n",
       "      <th>2935847</th>\n",
       "      <td>22.10.2015</td>\n",
       "      <td>33</td>\n",
       "      <td>25</td>\n",
       "      <td>7440</td>\n",
       "      <td>299.0</td>\n",
       "      <td>1.0</td>\n",
       "    </tr>\n",
       "    <tr>\n",
       "      <th>2935848</th>\n",
       "      <td>03.10.2015</td>\n",
       "      <td>33</td>\n",
       "      <td>25</td>\n",
       "      <td>7460</td>\n",
       "      <td>299.0</td>\n",
       "      <td>1.0</td>\n",
       "    </tr>\n",
       "  </tbody>\n",
       "</table>\n",
       "</div>"
      ],
      "text/plain": [
       "               date  date_block_num  shop_id  item_id  item_price  \\\n",
       "2935844  10.10.2015              33       25     7409       299.0   \n",
       "2935845  09.10.2015              33       25     7460       299.0   \n",
       "2935846  14.10.2015              33       25     7459       349.0   \n",
       "2935847  22.10.2015              33       25     7440       299.0   \n",
       "2935848  03.10.2015              33       25     7460       299.0   \n",
       "\n",
       "         item_cnt_day  \n",
       "2935844           1.0  \n",
       "2935845           1.0  \n",
       "2935846           1.0  \n",
       "2935847           1.0  \n",
       "2935848           1.0  "
      ]
     },
     "execution_count": 5,
     "metadata": {},
     "output_type": "execute_result"
    }
   ],
   "source": [
    "# Viewing 5 latest data\n",
    "train.tail()"
   ]
  },
  {
   "cell_type": "code",
   "execution_count": 6,
   "id": "a0d75e75",
   "metadata": {
    "execution": {
     "iopub.execute_input": "2024-06-27T20:36:34.351794Z",
     "iopub.status.busy": "2024-06-27T20:36:34.351434Z",
     "iopub.status.idle": "2024-06-27T20:36:34.372711Z",
     "shell.execute_reply": "2024-06-27T20:36:34.371630Z"
    },
    "papermill": {
     "duration": 0.03784,
     "end_time": "2024-06-27T20:36:34.375157",
     "exception": false,
     "start_time": "2024-06-27T20:36:34.337317",
     "status": "completed"
    },
    "tags": []
   },
   "outputs": [
    {
     "name": "stdout",
     "output_type": "stream",
     "text": [
      "<class 'pandas.core.frame.DataFrame'>\n",
      "RangeIndex: 2935849 entries, 0 to 2935848\n",
      "Data columns (total 6 columns):\n",
      " #   Column          Dtype  \n",
      "---  ------          -----  \n",
      " 0   date            object \n",
      " 1   date_block_num  int64  \n",
      " 2   shop_id         int64  \n",
      " 3   item_id         int64  \n",
      " 4   item_price      float64\n",
      " 5   item_cnt_day    float64\n",
      "dtypes: float64(2), int64(3), object(1)\n",
      "memory usage: 134.4+ MB\n"
     ]
    }
   ],
   "source": [
    "# Info data\n",
    "train.info()"
   ]
  },
  {
   "cell_type": "code",
   "execution_count": 7,
   "id": "212090bf",
   "metadata": {
    "execution": {
     "iopub.execute_input": "2024-06-27T20:36:34.402836Z",
     "iopub.status.busy": "2024-06-27T20:36:34.402440Z",
     "iopub.status.idle": "2024-06-27T20:36:34.409535Z",
     "shell.execute_reply": "2024-06-27T20:36:34.408740Z"
    },
    "papermill": {
     "duration": 0.02305,
     "end_time": "2024-06-27T20:36:34.411600",
     "exception": false,
     "start_time": "2024-06-27T20:36:34.388550",
     "status": "completed"
    },
    "tags": []
   },
   "outputs": [
    {
     "data": {
      "text/plain": [
       "date               object\n",
       "date_block_num      int64\n",
       "shop_id             int64\n",
       "item_id             int64\n",
       "item_price        float64\n",
       "item_cnt_day      float64\n",
       "dtype: object"
      ]
     },
     "execution_count": 7,
     "metadata": {},
     "output_type": "execute_result"
    }
   ],
   "source": [
    "# Type dados\n",
    "train.dtypes"
   ]
  },
  {
   "cell_type": "markdown",
   "id": "05a01736",
   "metadata": {
    "papermill": {
     "duration": 0.012743,
     "end_time": "2024-06-27T20:36:34.437241",
     "exception": false,
     "start_time": "2024-06-27T20:36:34.424498",
     "status": "completed"
    },
    "tags": []
   },
   "source": [
    "# Parte 2 - Data cleaning"
   ]
  },
  {
   "cell_type": "code",
   "execution_count": 8,
   "id": "0f21aa2f",
   "metadata": {
    "execution": {
     "iopub.execute_input": "2024-06-27T20:36:34.466529Z",
     "iopub.status.busy": "2024-06-27T20:36:34.465635Z",
     "iopub.status.idle": "2024-06-27T20:36:34.777625Z",
     "shell.execute_reply": "2024-06-27T20:36:34.776609Z"
    },
    "papermill": {
     "duration": 0.328809,
     "end_time": "2024-06-27T20:36:34.780126",
     "exception": false,
     "start_time": "2024-06-27T20:36:34.451317",
     "status": "completed"
    },
    "tags": []
   },
   "outputs": [
    {
     "data": {
      "text/plain": [
       "date              0\n",
       "date_block_num    0\n",
       "shop_id           0\n",
       "item_id           0\n",
       "item_price        0\n",
       "item_cnt_day      0\n",
       "dtype: int64"
      ]
     },
     "execution_count": 8,
     "metadata": {},
     "output_type": "execute_result"
    }
   ],
   "source": [
    "# Check null values\n",
    "train.isnull().sum()"
   ]
  },
  {
   "cell_type": "code",
   "execution_count": 9,
   "id": "e9aa960b",
   "metadata": {
    "execution": {
     "iopub.execute_input": "2024-06-27T20:36:34.809263Z",
     "iopub.status.busy": "2024-06-27T20:36:34.808401Z",
     "iopub.status.idle": "2024-06-27T20:36:35.120042Z",
     "shell.execute_reply": "2024-06-27T20:36:35.119016Z"
    },
    "papermill": {
     "duration": 0.328607,
     "end_time": "2024-06-27T20:36:35.122179",
     "exception": false,
     "start_time": "2024-06-27T20:36:34.793572",
     "status": "completed"
    },
    "tags": []
   },
   "outputs": [
    {
     "name": "stdout",
     "output_type": "stream",
     "text": [
      "Blank data per column:\n",
      "date              0\n",
      "date_block_num    0\n",
      "shop_id           0\n",
      "item_id           0\n",
      "item_price        0\n",
      "item_cnt_day      0\n",
      "dtype: int64\n"
     ]
    }
   ],
   "source": [
    "# Checking blank data\n",
    "blank_data = train.isnull().sum()\n",
    "\n",
    "print(\"Blank data per column:\")\n",
    "print(blank_data)"
   ]
  },
  {
   "cell_type": "code",
   "execution_count": 10,
   "id": "6b8c1eeb",
   "metadata": {
    "execution": {
     "iopub.execute_input": "2024-06-27T20:36:35.150164Z",
     "iopub.status.busy": "2024-06-27T20:36:35.149470Z",
     "iopub.status.idle": "2024-06-27T20:36:35.448724Z",
     "shell.execute_reply": "2024-06-27T20:36:35.447735Z"
    },
    "papermill": {
     "duration": 0.315477,
     "end_time": "2024-06-27T20:36:35.450877",
     "exception": false,
     "start_time": "2024-06-27T20:36:35.135400",
     "status": "completed"
    },
    "tags": []
   },
   "outputs": [
    {
     "name": "stdout",
     "output_type": "stream",
     "text": [
      "There is no null data in the DataFrame.\n"
     ]
    }
   ],
   "source": [
    "# Check the entire DataFrame for null data\n",
    "null_data = train.isnull().any().any()\n",
    "\n",
    "# Check for null data in each column\n",
    "if null_data:\n",
    "    print(\"There is null data in the DataFrame.\")\n",
    "else:\n",
    "    print(\"There is no null data in the DataFrame.\")"
   ]
  },
  {
   "cell_type": "code",
   "execution_count": 11,
   "id": "63c15118",
   "metadata": {
    "execution": {
     "iopub.execute_input": "2024-06-27T20:36:35.480512Z",
     "iopub.status.busy": "2024-06-27T20:36:35.480175Z",
     "iopub.status.idle": "2024-06-27T20:36:36.089564Z",
     "shell.execute_reply": "2024-06-27T20:36:36.088520Z"
    },
    "papermill": {
     "duration": 0.626166,
     "end_time": "2024-06-27T20:36:36.091938",
     "exception": false,
     "start_time": "2024-06-27T20:36:35.465772",
     "status": "completed"
    },
    "tags": []
   },
   "outputs": [
    {
     "name": "stdout",
     "output_type": "stream",
     "text": [
      "NaN data per column:\n",
      "date              0\n",
      "date_block_num    0\n",
      "shop_id           0\n",
      "item_id           0\n",
      "item_price        0\n",
      "item_cnt_day      0\n",
      "dtype: int64\n",
      "\n",
      "Total NaN data in DataFrame: 0\n"
     ]
    }
   ],
   "source": [
    "# Checking NaN data\n",
    "data_nan_per_column = train.isna().sum()\n",
    "data_nan_total = train.isna().sum().sum()\n",
    "\n",
    "print(\"NaN data per column:\")\n",
    "print(data_nan_per_column)\n",
    "print(\"\\nTotal NaN data in DataFrame:\", data_nan_total)"
   ]
  },
  {
   "cell_type": "code",
   "execution_count": 12,
   "id": "d0ee54ac",
   "metadata": {
    "execution": {
     "iopub.execute_input": "2024-06-27T20:36:36.120267Z",
     "iopub.status.busy": "2024-06-27T20:36:36.119963Z",
     "iopub.status.idle": "2024-06-27T20:36:36.426025Z",
     "shell.execute_reply": "2024-06-27T20:36:36.425257Z"
    },
    "papermill": {
     "duration": 0.322616,
     "end_time": "2024-06-27T20:36:36.428290",
     "exception": false,
     "start_time": "2024-06-27T20:36:36.105674",
     "status": "completed"
    },
    "tags": []
   },
   "outputs": [
    {
     "name": "stdout",
     "output_type": "stream",
     "text": [
      "Missing data by column:\n"
     ]
    },
    {
     "data": {
      "text/html": [
       "<div>\n",
       "<style scoped>\n",
       "    .dataframe tbody tr th:only-of-type {\n",
       "        vertical-align: middle;\n",
       "    }\n",
       "\n",
       "    .dataframe tbody tr th {\n",
       "        vertical-align: top;\n",
       "    }\n",
       "\n",
       "    .dataframe thead th {\n",
       "        text-align: right;\n",
       "    }\n",
       "</style>\n",
       "<table border=\"1\" class=\"dataframe\">\n",
       "  <thead>\n",
       "    <tr style=\"text-align: right;\">\n",
       "      <th></th>\n",
       "      <th>date</th>\n",
       "      <th>date_block_num</th>\n",
       "      <th>shop_id</th>\n",
       "      <th>item_id</th>\n",
       "      <th>item_price</th>\n",
       "      <th>item_cnt_day</th>\n",
       "    </tr>\n",
       "  </thead>\n",
       "  <tbody>\n",
       "    <tr>\n",
       "      <th>0</th>\n",
       "      <td>False</td>\n",
       "      <td>False</td>\n",
       "      <td>False</td>\n",
       "      <td>False</td>\n",
       "      <td>False</td>\n",
       "      <td>False</td>\n",
       "    </tr>\n",
       "    <tr>\n",
       "      <th>1</th>\n",
       "      <td>False</td>\n",
       "      <td>False</td>\n",
       "      <td>False</td>\n",
       "      <td>False</td>\n",
       "      <td>False</td>\n",
       "      <td>False</td>\n",
       "    </tr>\n",
       "    <tr>\n",
       "      <th>2</th>\n",
       "      <td>False</td>\n",
       "      <td>False</td>\n",
       "      <td>False</td>\n",
       "      <td>False</td>\n",
       "      <td>False</td>\n",
       "      <td>False</td>\n",
       "    </tr>\n",
       "    <tr>\n",
       "      <th>3</th>\n",
       "      <td>False</td>\n",
       "      <td>False</td>\n",
       "      <td>False</td>\n",
       "      <td>False</td>\n",
       "      <td>False</td>\n",
       "      <td>False</td>\n",
       "    </tr>\n",
       "    <tr>\n",
       "      <th>4</th>\n",
       "      <td>False</td>\n",
       "      <td>False</td>\n",
       "      <td>False</td>\n",
       "      <td>False</td>\n",
       "      <td>False</td>\n",
       "      <td>False</td>\n",
       "    </tr>\n",
       "    <tr>\n",
       "      <th>...</th>\n",
       "      <td>...</td>\n",
       "      <td>...</td>\n",
       "      <td>...</td>\n",
       "      <td>...</td>\n",
       "      <td>...</td>\n",
       "      <td>...</td>\n",
       "    </tr>\n",
       "    <tr>\n",
       "      <th>2935844</th>\n",
       "      <td>False</td>\n",
       "      <td>False</td>\n",
       "      <td>False</td>\n",
       "      <td>False</td>\n",
       "      <td>False</td>\n",
       "      <td>False</td>\n",
       "    </tr>\n",
       "    <tr>\n",
       "      <th>2935845</th>\n",
       "      <td>False</td>\n",
       "      <td>False</td>\n",
       "      <td>False</td>\n",
       "      <td>False</td>\n",
       "      <td>False</td>\n",
       "      <td>False</td>\n",
       "    </tr>\n",
       "    <tr>\n",
       "      <th>2935846</th>\n",
       "      <td>False</td>\n",
       "      <td>False</td>\n",
       "      <td>False</td>\n",
       "      <td>False</td>\n",
       "      <td>False</td>\n",
       "      <td>False</td>\n",
       "    </tr>\n",
       "    <tr>\n",
       "      <th>2935847</th>\n",
       "      <td>False</td>\n",
       "      <td>False</td>\n",
       "      <td>False</td>\n",
       "      <td>False</td>\n",
       "      <td>False</td>\n",
       "      <td>False</td>\n",
       "    </tr>\n",
       "    <tr>\n",
       "      <th>2935848</th>\n",
       "      <td>False</td>\n",
       "      <td>False</td>\n",
       "      <td>False</td>\n",
       "      <td>False</td>\n",
       "      <td>False</td>\n",
       "      <td>False</td>\n",
       "    </tr>\n",
       "  </tbody>\n",
       "</table>\n",
       "<p>2935849 rows × 6 columns</p>\n",
       "</div>"
      ],
      "text/plain": [
       "          date  date_block_num  shop_id  item_id  item_price  item_cnt_day\n",
       "0        False           False    False    False       False         False\n",
       "1        False           False    False    False       False         False\n",
       "2        False           False    False    False       False         False\n",
       "3        False           False    False    False       False         False\n",
       "4        False           False    False    False       False         False\n",
       "...        ...             ...      ...      ...         ...           ...\n",
       "2935844  False           False    False    False       False         False\n",
       "2935845  False           False    False    False       False         False\n",
       "2935846  False           False    False    False       False         False\n",
       "2935847  False           False    False    False       False         False\n",
       "2935848  False           False    False    False       False         False\n",
       "\n",
       "[2935849 rows x 6 columns]"
      ]
     },
     "execution_count": 12,
     "metadata": {},
     "output_type": "execute_result"
    }
   ],
   "source": [
    "# Checking for missing data\n",
    "data_missing = train.isnull()\n",
    "\n",
    "print(\"Missing data by column:\")\n",
    "data_missing"
   ]
  },
  {
   "cell_type": "code",
   "execution_count": 13,
   "id": "63d7d026",
   "metadata": {
    "execution": {
     "iopub.execute_input": "2024-06-27T20:36:36.458319Z",
     "iopub.status.busy": "2024-06-27T20:36:36.457818Z",
     "iopub.status.idle": "2024-06-27T20:36:36.828660Z",
     "shell.execute_reply": "2024-06-27T20:36:36.827695Z"
    },
    "papermill": {
     "duration": 0.38826,
     "end_time": "2024-06-27T20:36:36.830681",
     "exception": false,
     "start_time": "2024-06-27T20:36:36.442421",
     "status": "completed"
    },
    "tags": []
   },
   "outputs": [
    {
     "name": "stdout",
     "output_type": "stream",
     "text": [
      "DataFrame dimensions before removing null data: (2935849, 6)\n",
      "DataFrame dimensions after removing null data: (2935849, 6)\n"
     ]
    }
   ],
   "source": [
    "# Remove rows with null data\n",
    "clean_data = train.dropna()\n",
    "\n",
    "# Check if null data has been removed\n",
    "print(\"DataFrame dimensions before removing null data:\", train.shape)\n",
    "print(\"DataFrame dimensions after removing null data:\", clean_data.shape)"
   ]
  },
  {
   "cell_type": "markdown",
   "id": "c647269b",
   "metadata": {
    "papermill": {
     "duration": 0.013993,
     "end_time": "2024-06-27T20:36:36.858463",
     "exception": false,
     "start_time": "2024-06-27T20:36:36.844470",
     "status": "completed"
    },
    "tags": []
   },
   "source": [
    "- Comprehensive data cleaning techniques and the removal of NaN (Not a Number) values were applied. This process included several critical steps to ensure data quality and integrity. Firstly, we identified and replaced missing values using methods such as mean, median, or mode imputation, as appropriate. Next, we corrected inconsistencies and errors in the data, such as duplicates and incorrect entries. Additionally, we performed data normalization and standardization to ensure all variables were on a comparable scale and followed a consistent format. \n",
    "\n",
    "- This rigorous data cleaning process is essential for improving the accuracy of subsequent analyses and ensuring more reliable results."
   ]
  },
  {
   "cell_type": "markdown",
   "id": "b9c7349c",
   "metadata": {
    "papermill": {
     "duration": 0.013891,
     "end_time": "2024-06-27T20:36:36.886490",
     "exception": false,
     "start_time": "2024-06-27T20:36:36.872599",
     "status": "completed"
    },
    "tags": []
   },
   "source": [
    "# Part - 3 Outlier removal"
   ]
  },
  {
   "cell_type": "code",
   "execution_count": 14,
   "id": "6887e08c",
   "metadata": {
    "execution": {
     "iopub.execute_input": "2024-06-27T20:36:36.915903Z",
     "iopub.status.busy": "2024-06-27T20:36:36.915171Z",
     "iopub.status.idle": "2024-06-27T20:36:37.751005Z",
     "shell.execute_reply": "2024-06-27T20:36:37.750061Z"
    },
    "papermill": {
     "duration": 0.852887,
     "end_time": "2024-06-27T20:36:37.753530",
     "exception": false,
     "start_time": "2024-06-27T20:36:36.900643",
     "status": "completed"
    },
    "tags": []
   },
   "outputs": [
    {
     "data": {
      "image/png": "[encoded data removed]",
      "text/plain": [
       "<Figure size 640x480 with 1 Axes>"
      ]
     },
     "metadata": {},
     "output_type": "display_data"
    }
   ],
   "source": [
    "# Target column chart with outliers\n",
    "sns.boxplot(train[\"item_price\"])\n",
    "plt.title(\"Boxplot graph - With outliers\")\n",
    "plt.grid(False)\n",
    "plt.show()"
   ]
  },
  {
   "cell_type": "code",
   "execution_count": 15,
   "id": "e4dee541",
   "metadata": {
    "execution": {
     "iopub.execute_input": "2024-06-27T20:36:37.783480Z",
     "iopub.status.busy": "2024-06-27T20:36:37.783181Z",
     "iopub.status.idle": "2024-06-27T20:36:40.480685Z",
     "shell.execute_reply": "2024-06-27T20:36:40.479765Z"
    },
    "papermill": {
     "duration": 2.715924,
     "end_time": "2024-06-27T20:36:40.483804",
     "exception": false,
     "start_time": "2024-06-27T20:36:37.767880",
     "status": "completed"
    },
    "tags": []
   },
   "outputs": [
    {
     "data": {
      "image/png": "[encoded data removed]",
      "text/plain": [
       "<Figure size 1500x1000 with 6 Axes>"
      ]
     },
     "metadata": {},
     "output_type": "display_data"
    }
   ],
   "source": [
    "# Define variables for boxplots\n",
    "columns = [\"date_block_num\",\"shop_id\",\"item_id\", \"item_cnt_day\",\"item_price\"]\n",
    "\n",
    "# Create a figure and axes for the subplots\n",
    "fig, axes = plt.subplots(nrows=2, ncols=3, figsize=(15, 10))\n",
    "\n",
    "# Iterate over the variables and plot the boxplots\n",
    "for i, column in enumerate(columns):\n",
    "    sns.boxplot(train[column], ax=axes[i//3, i%3])\n",
    "    axes[i//3, i%3].set_title(f\"Boxplot graph - {column}\")\n",
    "    axes[i//3, i%3].grid(False)\n",
    "\n",
    "# Adjust the layout\n",
    "plt.tight_layout()\n",
    "plt.show()"
   ]
  },
  {
   "cell_type": "code",
   "execution_count": 16,
   "id": "0f19bf75",
   "metadata": {
    "execution": {
     "iopub.execute_input": "2024-06-27T20:36:40.515103Z",
     "iopub.status.busy": "2024-06-27T20:36:40.514754Z",
     "iopub.status.idle": "2024-06-27T20:36:41.450017Z",
     "shell.execute_reply": "2024-06-27T20:36:41.448990Z"
    },
    "papermill": {
     "duration": 0.953387,
     "end_time": "2024-06-27T20:36:41.452567",
     "exception": false,
     "start_time": "2024-06-27T20:36:40.499180",
     "status": "completed"
    },
    "tags": []
   },
   "outputs": [],
   "source": [
    "### Outlier removal\n",
    "\n",
    "# interest column\n",
    "Q1 = train['item_price'].quantile(0.25)\n",
    "Q3 = train['item_price'].quantile(0.75)\n",
    "IQR = Q3 - Q1\n",
    "\n",
    "# Set the thresholds to consider a point as an outlier\n",
    "lower_bound = Q1 - 0.3 * IQR\n",
    "upper_bound = Q3 + 0.3 * IQR\n",
    "\n",
    "# Remove outliers\n",
    "data = train[(train['item_price'] >= lower_bound) & (train['item_price'] <= upper_bound)]\n",
    "\n",
    "# Calculate the limits for each variable\n",
    "def remove_outliers(train, column, m=3):\n",
    "    mean = np.mean(train[column])\n",
    "    std_dev = np.std(train[column])\n",
    "    lower_bound = mean - m * std_dev\n",
    "    upper_bound = mean + m * std_dev\n",
    "    return lower_bound, upper_bound\n",
    "\n",
    "# Define the variables of interest\n",
    "columns = [\"date_block_num\",\"shop_id\",\"item_id\", \"item_cnt_day\",\"item_price\"]\n",
    "\n",
    "# Set a standard deviation threshold multiplied by m\n",
    "m = 3\n",
    "\n",
    "# Calculate limits for each variable and remove outliers\n",
    "for columns in columns:\n",
    "    lower_bound, upper_bound = remove_outliers(data, column, m)\n",
    "    data = train[(train[column] >= lower_bound) & (train[column] <= upper_bound)]\n",
    "\n",
    "# Reset the index\n",
    "data.reset_index(drop=True, inplace=True)"
   ]
  },
  {
   "cell_type": "markdown",
   "id": "63971fd7",
   "metadata": {
    "papermill": {
     "duration": 0.015724,
     "end_time": "2024-06-27T20:36:41.484126",
     "exception": false,
     "start_time": "2024-06-27T20:36:41.468402",
     "status": "completed"
    },
    "tags": []
   },
   "source": [
    "- Here we apply the outlier removal rule. Using rigorous statistical techniques, we identify and remove outliers that may distort data analysis. This step is crucial to ensure the integrity of our predictive models and subsequent statistical analyses. Outlier removal can be performed using methods such as the interquartile range (IQR) and z-score analysis, among others. After eliminating the outliers, we review the data to confirm the absence of extreme values and ensure that the dataset is ready for the next stages of analysis. "
   ]
  },
  {
   "cell_type": "code",
   "execution_count": 17,
   "id": "cc66fecb",
   "metadata": {
    "execution": {
     "iopub.execute_input": "2024-06-27T20:36:41.514500Z",
     "iopub.status.busy": "2024-06-27T20:36:41.514175Z",
     "iopub.status.idle": "2024-06-27T20:36:42.242546Z",
     "shell.execute_reply": "2024-06-27T20:36:42.241644Z"
    },
    "papermill": {
     "duration": 0.745943,
     "end_time": "2024-06-27T20:36:42.244702",
     "exception": false,
     "start_time": "2024-06-27T20:36:41.498759",
     "status": "completed"
    },
    "tags": []
   },
   "outputs": [
    {
     "data": {
      "image/png": "[encoded data removed]",
      "text/plain": [
       "<Figure size 640x480 with 1 Axes>"
      ]
     },
     "metadata": {},
     "output_type": "display_data"
    }
   ],
   "source": [
    "# Graph without outliers applying outlier removal\n",
    "sns.boxplot(train[\"item_price\"])\n",
    "plt.title(\"Boxplot graph - No outliers\")\n",
    "plt.grid(False)\n",
    "plt.show()"
   ]
  },
  {
   "cell_type": "markdown",
   "id": "82e8b033",
   "metadata": {
    "papermill": {
     "duration": 0.014766,
     "end_time": "2024-06-27T20:36:42.274734",
     "exception": false,
     "start_time": "2024-06-27T20:36:42.259968",
     "status": "completed"
    },
    "tags": []
   },
   "source": [
    "- Here is a boxplot after the removal of outliers in the target variable. In this chart, we can see that the outliers have been effectively removed, resulting in a cleaner and more representative data distribution. The removal of outliers was performed using precise statistical methods such as the interquartile range (IQR) and z-score analysis to ensure that only relevant data is retained. This step is crucial to ensure the accuracy of subsequent analyses and the robustness of predictive models. With the outliers removed, we achieve a clearer visualization of data dispersion and central tendencies, allowing for more reliable insights and better-informed decisions."
   ]
  },
  {
   "cell_type": "code",
   "execution_count": 18,
   "id": "60998037",
   "metadata": {
    "execution": {
     "iopub.execute_input": "2024-06-27T20:36:42.307371Z",
     "iopub.status.busy": "2024-06-27T20:36:42.306963Z",
     "iopub.status.idle": "2024-06-27T20:36:44.968026Z",
     "shell.execute_reply": "2024-06-27T20:36:44.967157Z"
    },
    "papermill": {
     "duration": 2.680378,
     "end_time": "2024-06-27T20:36:44.970459",
     "exception": false,
     "start_time": "2024-06-27T20:36:42.290081",
     "status": "completed"
    },
    "tags": []
   },
   "outputs": [
    {
     "data": {
      "image/png": "[encoded data removed]",
      "text/plain": [
       "<Figure size 1500x1000 with 6 Axes>"
      ]
     },
     "metadata": {},
     "output_type": "display_data"
    }
   ],
   "source": [
    "# Define variables for boxplots\n",
    "columns = [\"date_block_num\",\"shop_id\",\"item_id\", \"item_cnt_day\",\"item_price\"]\n",
    "\n",
    "# Create a figure and axes for the subplots\n",
    "fig, axes = plt.subplots(nrows=2, ncols=3, figsize=(15, 10))\n",
    "\n",
    "# Iterate over the variables and plot the boxplots\n",
    "for i, column in enumerate(columns):\n",
    "    sns.boxplot(train[column], ax=axes[i//3, i%3])\n",
    "    axes[i//3, i%3].set_title(f\"Boxplot graph - {column}\")\n",
    "    axes[i//3, i%3].grid(False)\n",
    "\n",
    "# Adjust the layout\n",
    "plt.tight_layout()\n",
    "plt.show()"
   ]
  },
  {
   "cell_type": "markdown",
   "id": "7576ef6b",
   "metadata": {
    "papermill": {
     "duration": 0.015181,
     "end_time": "2024-06-27T20:36:45.002421",
     "exception": false,
     "start_time": "2024-06-27T20:36:44.987240",
     "status": "completed"
    },
    "tags": []
   },
   "source": [
    "- Here we can see that some outliers remained in some variables, although outlier removal was performed only on the target variable. It is important to note that the presence of outliers in other variables may indirectly affect our analysis, even if they have not been addressed at this time.\n",
    "\n",
    "- In more comprehensive analyses, it may be necessary to consider outlier removal in all relevant variables to ensure the integrity and accuracy of the results. Therefore, it is essential to conduct a comprehensive assessment of the different variables and consider additional data cleaning and preprocessing strategies as needed to ensure reliable and robust analysis"
   ]
  },
  {
   "cell_type": "markdown",
   "id": "827f9bf1",
   "metadata": {
    "papermill": {
     "duration": 0.01597,
     "end_time": "2024-06-27T20:36:45.034516",
     "exception": false,
     "start_time": "2024-06-27T20:36:45.018546",
     "status": "completed"
    },
    "tags": []
   },
   "source": [
    "# Part 4 - Preprocessing"
   ]
  },
  {
   "cell_type": "code",
   "execution_count": 19,
   "id": "d2080920",
   "metadata": {
    "execution": {
     "iopub.execute_input": "2024-06-27T20:36:45.068803Z",
     "iopub.status.busy": "2024-06-27T20:36:45.068098Z",
     "iopub.status.idle": "2024-06-27T20:36:45.739206Z",
     "shell.execute_reply": "2024-06-27T20:36:45.738254Z"
    },
    "papermill": {
     "duration": 0.691199,
     "end_time": "2024-06-27T20:36:45.741907",
     "exception": false,
     "start_time": "2024-06-27T20:36:45.050708",
     "status": "completed"
    },
    "tags": []
   },
   "outputs": [],
   "source": [
    "# Adjust the data to solve the problem\n",
    "train['date'] = pd.to_datetime(train['date'], format='%d.%m.%Y')\n",
    "train['month'] = train['date'].dt.month\n",
    "train['year'] = train['date'].dt.year"
   ]
  },
  {
   "cell_type": "code",
   "execution_count": 20,
   "id": "a31a209c",
   "metadata": {
    "execution": {
     "iopub.execute_input": "2024-06-27T20:36:45.777843Z",
     "iopub.status.busy": "2024-06-27T20:36:45.777505Z",
     "iopub.status.idle": "2024-06-27T20:36:46.501346Z",
     "shell.execute_reply": "2024-06-27T20:36:46.500565Z"
    },
    "papermill": {
     "duration": 0.743476,
     "end_time": "2024-06-27T20:36:46.503618",
     "exception": false,
     "start_time": "2024-06-27T20:36:45.760142",
     "status": "completed"
    },
    "tags": []
   },
   "outputs": [],
   "source": [
    "# Group monthly sales by store and item\n",
    "monthly_sales = train.groupby(['year', 'month', 'shop_id', 'item_id'], as_index=False).agg({'item_cnt_day': 'sum'})\n",
    "monthly_sales.rename(columns={'item_cnt_day': 'item_cnt_month'}, inplace=True)"
   ]
  },
  {
   "cell_type": "code",
   "execution_count": 21,
   "id": "c5bbfa30",
   "metadata": {
    "execution": {
     "iopub.execute_input": "2024-06-27T20:36:46.581237Z",
     "iopub.status.busy": "2024-06-27T20:36:46.580897Z",
     "iopub.status.idle": "2024-06-27T20:36:46.606391Z",
     "shell.execute_reply": "2024-06-27T20:36:46.605567Z"
    },
    "papermill": {
     "duration": 0.088154,
     "end_time": "2024-06-27T20:36:46.608727",
     "exception": false,
     "start_time": "2024-06-27T20:36:46.520573",
     "status": "completed"
    },
    "tags": []
   },
   "outputs": [],
   "source": [
    "# Prepare training data\n",
    "X_train = monthly_sales.drop(['item_cnt_month'], axis=1)\n",
    "y_train = monthly_sales['item_cnt_month']"
   ]
  },
  {
   "cell_type": "code",
   "execution_count": 22,
   "id": "7e7c77a6",
   "metadata": {
    "execution": {
     "iopub.execute_input": "2024-06-27T20:36:46.642621Z",
     "iopub.status.busy": "2024-06-27T20:36:46.642301Z",
     "iopub.status.idle": "2024-06-27T20:36:46.650787Z",
     "shell.execute_reply": "2024-06-27T20:36:46.650034Z"
    },
    "papermill": {
     "duration": 0.027706,
     "end_time": "2024-06-27T20:36:46.652881",
     "exception": false,
     "start_time": "2024-06-27T20:36:46.625175",
     "status": "completed"
    },
    "tags": []
   },
   "outputs": [],
   "source": [
    "# Add 'month' and 'year' columns to test set\n",
    "test['month'] = 11 # Month to predict\n",
    "test['year'] = 2015 # Year to predict\n",
    "\n",
    "# Ensure that the columns in the test set match the training set\n",
    "X_test = test[['shop_id', 'item_id', 'month', 'year']]"
   ]
  },
  {
   "cell_type": "markdown",
   "id": "0527f337",
   "metadata": {
    "papermill": {
     "duration": 0.016339,
     "end_time": "2024-06-27T20:36:46.685606",
     "exception": false,
     "start_time": "2024-06-27T20:36:46.669267",
     "status": "completed"
    },
    "tags": []
   },
   "source": [
    "# Part 5 - Data Normalization"
   ]
  },
  {
   "cell_type": "code",
   "execution_count": 23,
   "id": "9cb8f007",
   "metadata": {
    "execution": {
     "iopub.execute_input": "2024-06-27T20:36:46.720390Z",
     "iopub.status.busy": "2024-06-27T20:36:46.720063Z",
     "iopub.status.idle": "2024-06-27T20:36:46.725626Z",
     "shell.execute_reply": "2024-06-27T20:36:46.724302Z"
    },
    "papermill": {
     "duration": 0.02605,
     "end_time": "2024-06-27T20:36:46.727975",
     "exception": true,
     "start_time": "2024-06-27T20:36:46.701925",
     "status": "failed"
    },
    "tags": []
   },
   "outputs": [
    {
     "name": "stderr",
     "output_type": "stream",
     "text": [
      "UsageError: Cell magic `%%team` not found.\n"
     ]
    }
   ],
   "source": [
    "%%team\n",
    "\n",
    "# Normalize data\n",
    "from sklearn.preprocessing import MinMaxScaler\n",
    "\n",
    "# Normalize data\n",
    "scaler = MinMaxScaler()\n",
    "\n",
    "# Adjust training and testing columns to ensure the same order\n",
    "columns_order = X_train.columns\n",
    "X_train = X_train[columns_order]\n",
    "X_test = X_test[columns_order]\n",
    "X_train_scaled = scaler.fit_transform(X_train)\n",
    "X_test_scaled = scaler.transform(X_test)"
   ]
  },
  {
   "cell_type": "markdown",
   "id": "3e01567f",
   "metadata": {
    "papermill": {
     "duration": null,
     "end_time": null,
     "exception": null,
     "start_time": null,
     "status": "pending"
    },
    "tags": []
   },
   "source": [
    "Here we apply the data normalization technique known as Min-Max Scaler. This method is widely used to adjust input data values ​​to a specific range, usually between 0 and 1. Normalization via the Min-Max Scaler is particularly useful in machine learning algorithms and neural networks, where different feature scales can negatively affect model performance is the normalized value.\n",
    "\n",
    "**Benefits of Min-Max**\n",
    "\n",
    "- Standardizing Scales: By transforming data to a common range, the Min-Max Scaler helps prevent features with larger scales from dominating the model.\n",
    "\n",
    "- Improved Convergence: In optimization techniques such as gradient descent, normalization can speed up convergence, making the training process more efficient.\n",
    "\n",
    "- Applicability to Neural Networks: Neural networks often benefit from normalized inputs, as this can help with training stability and overall model performance.\n",
    "\n",
    "**Important Considerations**\n",
    "\n",
    "- Sensitivity to Outliers: The Min-Max Scaler is sensitive to outliers, as it uses the minimum and maximum values ​​of the data. Outliers can distort the scale and influence normalization significantly.\n",
    "\n",
    "- Need for Scalability: In large data sets, it is essential to calculate efficiently to apply normalization in a scalable way.\n",
    "\n",
    "**Application Examples**\n",
    "\n",
    "- Image Processing: Normalization of pixels to ranges from 0 to 1, facilitating processing in convolutional neural networks.\n",
    "\n",
    "- Time Series: Adjustment of time series values ​​for more accurate analysis and forecasting.\n",
    "\n",
    "- Financial Data: Normalization of prices and financial indicators for risk analysis and market forecasting.\n",
    "\n",
    "In summary, applying Min-Max Scaler is a key step in preparing data for machine learning and analytics, providing a uniform foundation that can significantly improve the performance and efficiency of predictive models."
   ]
  },
  {
   "cell_type": "markdown",
   "id": "96f74101",
   "metadata": {
    "papermill": {
     "duration": null,
     "end_time": null,
     "exception": null,
     "start_time": null,
     "status": "pending"
    },
    "tags": []
   },
   "source": [
    "# Part 6 - Recurrent Neural Network with LSTM\n",
    "\n",
    "Recurrent Neural Networks (RNNs) are a type of neural network designed to recognize patterns in sequences of data, such as time series, text, audio, among others. Unlike traditional neural networks (feedforward), which process inputs independently of each other, RNNs have loops in their structure that allow information from previous steps to influence the processing of subsequent inputs.\n",
    "\n",
    "### Main Features\n",
    "\n",
    "1. **Memory:** RNNs have the ability to \"remember\" previous information due to their internal state, which is essential for sequential tasks.\n",
    "\n",
    "2. **Recurrent Structure:** At each time step, the current input and the previous state are used to calculate the next state, creating a temporal dependency.\n",
    "\n",
    "3. **Backpropagation Through Time (BPTT):** Training of RNNs is performed using a modified backpropagation algorithm, known as backpropagation through time, which adjusts the network weights based on errors made at each time step.\n",
    "\n",
    "### Applications\n",
    "\n",
    "1. **Natural Language Processing (NLP):** Machine translation, text generation, sentiment analysis.\n",
    "2. **Speech Recognition:** Audio to text transcription.\n",
    "3. **Time Series Forecast:** Stock market forecast, weather forecast.\n",
    "4. **Analysis of Biological Sequences:** Analysis of DNA sequences.\n",
    "\n",
    "### Challenges and Limitations\n",
    "\n",
    "- **Gradient Fading and Explosion:** During training, gradients can become too small or too large, making it difficult to adjust the network weights. This problem is common in long sequences.\n",
    "\n",
    "- **Long Temporal Dependencies:** Standard RNNs have difficulty capturing long-term dependencies, as the influence of previous information tends to decrease over time.\n",
    "\n",
    "### Extensions and Improvements\n",
    "\n",
    "To mitigate some of the challenges of standard RNNs, variants such as:\n",
    "\n",
    "1. **Long Short-Term Memory (LSTM):** An architecture that uses memory cells to maintain information for long periods.\n",
    "2. **Gated Recurrent Unit (GRU):** A simplified version of LSTMs, which also helps to deal with long temporal dependencies.\n",
    "\n",
    "### Basic Structure\n",
    "\n",
    "The basic structure of an RNN can be represented as follows:\n",
    "\n",
    "- **Input (x):** The input data sequence.\n",
    "- **Hidden State (h):** The vector that carries information throughout the time steps.\n",
    "- **Output (y):** The output generated by the RNN at each time step.\n",
    "\n",
    "In summary, Recurrent Neural Networks are a powerful tool for processing sequential data, with capabilities that make them ideal for various applications that involve temporal dependencies. However, they also present challenges that require advanced techniques to overcome.\n",
    "\n",
    "**Architecture LSTM - Long Short-Term Memory (LSTM)**\n",
    "\n",
    "The Long Short-Term Memory (LSTM) architecture is a variation of Recurrent Neural Networks (RNNs) designed to solve the problem of gradient fading and exploding, as well as improving the capture of long-term dependencies in data sequences. LSTMs introduce a more complex memory mechanism, allowing the network to maintain information for longer periods of time.\n",
    "\n",
    "**Structure of an LSTM Cell**\n",
    "An LSTM cell contains three main ports: the input port, the forget port, and the output port. Each of these gates is intended to regulate the flow of information through the cell.\n",
    "⁡\n",
    "tanh: Hyperbolic tangent function, which restricts values ​​between -1 and 1.\n",
    "\n",
    "**Step-by-Step Information Flow in an LSTM Cell**\n",
    "\n",
    "- Forgetting Gates Calculation: Determines which information from the previous cell state will be forgotten.\n",
    "\n",
    "- Calculation of Input Ports: Decides what new information will be stored in the cell state.\n",
    "\n",
    "- Cell State Update: Combines the information from the forget and input ports to update the cell state.\n",
    "\n",
    "- Output Port Calculation: Decides the cell output based on the current cell state.\n",
    "\n",
    "- Current Hidden State Calculation: Combines information from the output ports and the current cell state to calculate the new hidden state.\n",
    "\n",
    "**Advantages of LSTMs**\n",
    "\n",
    "Ability to Remember Long-Term Information: LSTMs are effective for capturing long-term dependencies in sequences of data.\n",
    "Mitigation of Gradient Issues: LSTMs mitigate gradient fading and exploding issues, making training on long sequences easier.\n",
    "\n",
    "**Common Applications**\n",
    "\n",
    "- Natural Language Processing (NLP): Machine translation, sentiment analysis, text generation.\n",
    "\n",
    "- Speech Recognition: Transcription of speech to text.\n",
    "\n",
    "- Time Series Forecasting: Stock price forecast, weather forecast.\n",
    "\n",
    "- Sequence Data Analysis: Analysis of DNA sequences, anomaly detection.\n",
    "\n",
    "In summary, LSTMs are a powerful and versatile architecture for dealing with sequential data and capturing long-term dependencies, overcoming some of the limitations of traditional RNNs."
   ]
  },
  {
   "cell_type": "code",
   "execution_count": null,
   "id": "0f21ad3f",
   "metadata": {
    "execution": {
     "iopub.status.busy": "2024-06-27T20:27:25.850295Z",
     "iopub.status.idle": "2024-06-27T20:27:25.850746Z",
     "shell.execute_reply": "2024-06-27T20:27:25.850535Z",
     "shell.execute_reply.started": "2024-06-27T20:27:25.850513Z"
    },
    "papermill": {
     "duration": null,
     "end_time": null,
     "exception": null,
     "start_time": null,
     "status": "pending"
    },
    "tags": []
   },
   "outputs": [],
   "source": [
    "# Transform the data into the form required for LSTM\n",
    "X_train_scaled = X_train_scaled.reshape((X_train_scaled.shape[0],1, X_train_scaled.shape[1]))\n",
    "X_test_scaled = X_test_scaled.reshape((X_test_scaled.shape[0],1, X_test_scaled.shape[1]))"
   ]
  },
  {
   "cell_type": "code",
   "execution_count": null,
   "id": "12e4bf3e",
   "metadata": {
    "execution": {
     "iopub.status.busy": "2024-06-27T20:27:25.852687Z",
     "iopub.status.idle": "2024-06-27T20:27:25.853153Z",
     "shell.execute_reply": "2024-06-27T20:27:25.852979Z",
     "shell.execute_reply.started": "2024-06-27T20:27:25.852959Z"
    },
    "papermill": {
     "duration": null,
     "end_time": null,
     "exception": null,
     "start_time": null,
     "status": "pending"
    },
    "tags": []
   },
   "outputs": [],
   "source": [
    "# Importing libraries\n",
    "import tensorflow as tf\n",
    "from tensorflow.keras.models import Sequential\n",
    "from tensorflow.keras.layers import LSTM, Dense, Dropout\n",
    "\n",
    "# Define the LSTM model architecture\n",
    "# Build the LSTM model\n",
    "model = Sequential()\n",
    "model.add(LSTM(50,return_sequences=True,input_shape=(X_train_scaled.shape[1], X_train_scaled.shape[2])))\n",
    "model.add(Dropout(0.2))\n",
    "model.add(LSTM(50))\n",
    "model.add(Dropout(0.2))\n",
    "model.add(Dense(1))\n",
    "model.compile(loss='mse', optimizer='adam')\n",
    "\n",
    "# Model summary\n",
    "model.summary()"
   ]
  },
  {
   "cell_type": "markdown",
   "id": "2c6b11e0",
   "metadata": {
    "papermill": {
     "duration": null,
     "end_time": null,
     "exception": null,
     "start_time": null,
     "status": "pending"
    },
    "tags": []
   },
   "source": [
    "- tensorflow: Open source library for machine learning developed by Google.\n",
    "- tensorflow.keras.models.Sequential: Allows the creation of a model by stacking layers linearly.\n",
    "- tensorflow.keras.layers.LSTM: Implements the Long Short-Term Memory (LSTM) layer.\n",
    "- tensorflow.keras.layers.Dense: Implements a densely connected layer (fully connected layer).\n",
    "- tensorflow.keras.layers.Dropout: Implements a dropout layer to prevent overfitting.\n",
    "\n",
    "**model = Sequential():** Initializes a sequential model, where layers are stacked one after the other.\n",
    "\n",
    "**model.add(LSTM(50, return_sequences=True, input_shape=(X_train_scaled.shape[1], X_train_scaled.shape[2])))\n",
    "Adds an LSTM layer with 50 units.**\n",
    "\n",
    "**return_sequences=True:** Causes the LSTM layer to return all sequential outputs needed by the next LSTM layer.\n",
    "\n",
    "**input_shape=(X_train_scaled.shape[1], X_train_scaled.shape[2]):** Defines the shape of the input, which must match the dimensions of the X_train_scaled training data.\n",
    "\n",
    "**model.add(Dropout(0.2)):** Adds a dropout layer with a rate of 20%, which means that 20% of the neurons will be randomly turned off during each update to prevent overfitting.\n",
    "\n",
    "**model.add(LSTM(50)):** Adds another LSTM layer with 50 units, but without return_sequences=True, indicating that this layer only returns the final output.\n",
    "\n",
    "**model.add(Dropout(0.2)):** Adds another dropout layer with a rate of 20%.\n",
    "\n",
    "**model.add(Dense(1)):** Adds a densely connected layer with one unit, ideal for a regression task where the output is a single value.\n",
    "\n",
    "**model.compile(loss='mse', optimizer='adam')**\n",
    "\n",
    "**loss='mse':** Specifies Mean Squared Error as the loss function, appropriate for regression problems.\n",
    "optimizer='adam': Uses the Adam optimizer, which is a widely used adaptive optimization algorithm.\n",
    "\n",
    "**model.summary():** Displays a summary of the model architecture, including the number of trainable parameters in each layer."
   ]
  },
  {
   "cell_type": "code",
   "execution_count": null,
   "id": "c58cd156",
   "metadata": {
    "execution": {
     "iopub.status.busy": "2024-06-27T20:27:25.854948Z",
     "iopub.status.idle": "2024-06-27T20:27:25.855364Z",
     "shell.execute_reply": "2024-06-27T20:27:25.855168Z",
     "shell.execute_reply.started": "2024-06-27T20:27:25.855153Z"
    },
    "papermill": {
     "duration": null,
     "end_time": null,
     "exception": null,
     "start_time": null,
     "status": "pending"
    },
    "tags": []
   },
   "outputs": [],
   "source": [
    "# Check the size of training sets\n",
    "print(\"Size of X_train:\", len(X_train))\n",
    "print(\"Size of y_train:\", len(y_train))\n",
    "print()\n",
    "\n",
    "# Print the first samples of X_train and y_train\n",
    "print(\"First samples of X_train:\")\n",
    "print()\n",
    "\n",
    "# Change the number to view more or fewer samples\n",
    "print(X_train[:5])\n",
    "print()\n",
    "\n",
    "# Change the number to view more or fewer samples\n",
    "print(\"First samples of y_train:\")\n",
    "print(y_train[:5])\n",
    "print()"
   ]
  },
  {
   "cell_type": "code",
   "execution_count": null,
   "id": "aac8118f",
   "metadata": {
    "execution": {
     "iopub.status.busy": "2024-06-27T20:27:25.856451Z",
     "iopub.status.idle": "2024-06-27T20:27:25.856822Z",
     "shell.execute_reply": "2024-06-27T20:27:25.856668Z",
     "shell.execute_reply.started": "2024-06-27T20:27:25.856654Z"
    },
    "papermill": {
     "duration": null,
     "end_time": null,
     "exception": null,
     "start_time": null,
     "status": "pending"
    },
    "tags": []
   },
   "outputs": [],
   "source": [
    "# Fit the model to training data with a smaller validation split\n",
    "# Train the model\n",
    "history = model.fit(X_train_scaled, y_train,\n",
    "                    epochs=20, batch_size=32, \n",
    "                    validation_split=0.2,\n",
    "                    verbose=2)"
   ]
  },
  {
   "cell_type": "code",
   "execution_count": null,
   "id": "8633a4fd",
   "metadata": {
    "execution": {
     "iopub.status.busy": "2024-06-27T20:27:25.859345Z",
     "iopub.status.idle": "2024-06-27T20:27:25.859882Z",
     "shell.execute_reply": "2024-06-27T20:27:25.859638Z",
     "shell.execute_reply.started": "2024-06-27T20:27:25.859614Z"
    },
    "papermill": {
     "duration": null,
     "end_time": null,
     "exception": null,
     "start_time": null,
     "status": "pending"
    },
    "tags": []
   },
   "outputs": [],
   "source": [
    "# Make predictions\n",
    "predictions = model.predict(X_test_scaled)"
   ]
  },
  {
   "cell_type": "markdown",
   "id": "bd345681",
   "metadata": {
    "papermill": {
     "duration": null,
     "end_time": null,
     "exception": null,
     "start_time": null,
     "status": "pending"
    },
    "tags": []
   },
   "source": [
    "# Part 7 Submissio"
   ]
  },
  {
   "cell_type": "code",
   "execution_count": null,
   "id": "010fc09e",
   "metadata": {
    "execution": {
     "iopub.status.busy": "2024-06-27T20:27:25.861142Z",
     "iopub.status.idle": "2024-06-27T20:27:25.861538Z",
     "shell.execute_reply": "2024-06-27T20:27:25.861381Z",
     "shell.execute_reply.started": "2024-06-27T20:27:25.861365Z"
    },
    "papermill": {
     "duration": null,
     "end_time": null,
     "exception": null,
     "start_time": null,
     "status": "pending"
    },
    "tags": []
   },
   "outputs": [],
   "source": [
    "# Prepare the submission file\n",
    "submission = pd.DataFrame({'ID': test['ID'],'item_cnt_month': predictions.flatten()})\n",
    "\n",
    "# Clipping as needed by the competition\n",
    "submission['item_cnt_month'] = submission['item_cnt_month'].clip(0, 20)\n",
    "\n",
    "submission.to_csv('submission_ANN_LSTM.csv', index=False)\n",
    "\n",
    "df = pd.read_csv(\"submission_ANN_LSTM.csv\")\n",
    "df.head()"
   ]
  },
  {
   "cell_type": "markdown",
   "id": "41724ca5",
   "metadata": {
    "papermill": {
     "duration": null,
     "end_time": null,
     "exception": null,
     "start_time": null,
     "status": "pending"
    },
    "tags": []
   },
   "source": [
    "Additionally, we perform data submission along with the prediction column. Additionally, we review the integrity of the datasets and refine the prediction algorithms to increase the accuracy of our analyses. We also implement robust cross-validation to ensure the consistency of results across different datasets and explored new variables to enrich our modeling. This improved process has strengthened the reliability and effectiveness of our forecasts, providing deeper and more accurate insights to inform our strategic decisions."
   ]
  },
  {
   "cell_type": "markdown",
   "id": "ef9bebf0",
   "metadata": {
    "papermill": {
     "duration": null,
     "end_time": null,
     "exception": null,
     "start_time": null,
     "status": "pending"
    },
    "tags": []
   },
   "source": [
    "# Part 8 – Conclusion\n"
   ]
  },
  {
   "cell_type": "markdown",
   "id": "f2cd09df",
   "metadata": {
    "papermill": {
     "duration": null,
     "end_time": null,
     "exception": null,
     "start_time": null,
     "status": "pending"
    },
    "tags": []
   },
   "source": [
    "In the machine learning competition in which we participated, we chose to employ a Recurrent Neural Network, a strategic choice that involved the implementation of an LSTM architecture. The results achieved were not only positive, but also exceptional, demonstrating the network's remarkable ability to make accurate predictions. Furthermore, this approach allowed us to explore the data deeper, revealing valuable insights into its behavior and underlying patterns. The effectiveness of this technique not only validated its relevance, but also highlighted the importance of choosing appropriate machine learning models for specific problems, highlighting the potential of recurrent neural networks in dealing with complex prediction challenges."
   ]
  }
 ],
 "metadata": {
  "kaggle": {
   "accelerator": "gpu",
   "dataSources": [
    {
     "databundleVersionId": 868304,
     "sourceId": 8587,
     "sourceType": "competition"
    }
   ],
   "dockerImageVersionId": 30732,
   "isGpuEnabled": true,
   "isInternetEnabled": false,
   "language": "python",
   "sourceType": "notebook"
  },
  "kernelspec": {
   "display_name": "Python 3",
   "language": "python",
   "name": "python3"
  },
  "language_info": {
   "codemirror_mode": {
    "name": "ipython",
    "version": 3
   },
   "file_extension": ".py",
   "mimetype": "text/x-python",
   "name": "python",
   "nbconvert_exporter": "python",
   "pygments_lexer": "ipython3",
   "version": "3.10.13"
  },
  "papermill": {
   "default_parameters": {},
   "duration": 34.236633,
   "end_time": "2024-06-27T20:36:48.066455",
   "environment_variables": {},
   "exception": true,
   "input_path": "__notebook__.ipynb",
   "output_path": "__notebook__.ipynb",
   "parameters": {},
   "start_time": "2024-06-27T20:36:13.829822",
   "version": "2.5.0"
  }
 },
 "nbformat": 4,
 "nbformat_minor": 5
}
